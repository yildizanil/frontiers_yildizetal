{
 "cells": [
  {
   "cell_type": "code",
   "execution_count": 24,
   "metadata": {},
   "outputs": [],
   "source": [
    "import frontiers_yildizetal as fy\n",
    "from frontiers_yildizetal.scalar_emulators2 import *\n",
    "import pkg_resources\n",
    "import pandas as pd\n",
    "import numpy as np\n",
    "from scipy.stats import skew"
   ]
  },
  {
   "cell_type": "code",
   "execution_count": 3,
   "metadata": {},
   "outputs": [
    {
     "name": "stdout",
     "output_type": "stream",
     "text": [
      "Calculating IA...\n",
      "IA calculated.\n",
      "Calculating DA...\n",
      "DA calculated.\n",
      "Calculating DV...\n",
      "DV calculated.\n",
      "Extracting QoI: vmax... \n",
      "QoI: vmax extracted.\n",
      "Extracting QoI: hmax... \n",
      "QoI: hmax extracted.\n"
     ]
    }
   ],
   "source": [
    "pem = Simulations('simple_pem')\n",
    "pem_scalar = pem.curate_scalars(threshold=0.1, loc_x=1000, loc_y=2000)"
   ]
  },
  {
   "cell_type": "code",
   "execution_count": 4,
   "metadata": {},
   "outputs": [
    {
     "name": "stdout",
     "output_type": "stream",
     "text": [
      "Calculating IA...\n",
      "IA calculated.\n",
      "Calculating DA...\n",
      "DA calculated.\n",
      "Calculating DV...\n",
      "DV calculated.\n",
      "Extracting QoI: vmax... \n",
      "QoI: vmax extracted.\n",
      "Extracting QoI: hmax... \n",
      "QoI: hmax extracted.\n"
     ]
    }
   ],
   "source": [
    "simple = ScalarEmulators('simple', h_threshold=0.1, loc_x=1000, loc_y=2000)"
   ]
  },
  {
   "cell_type": "code",
   "execution_count": 50,
   "metadata": {},
   "outputs": [],
   "source": [
    "scalars = list(pem_scalar.columns)\n",
    "mcs_analysis = ['mcs1','mcs2','mcs3']\n",
    "pem_analysis = ['pem1','pem2','pem3']\n",
    "funcs = [np.mean, np.var, skew]\n",
    "f_names = ['mean','var','skew']"
   ]
  },
  {
   "cell_type": "code",
   "execution_count": 56,
   "metadata": {},
   "outputs": [
    {
     "name": "stdout",
     "output_type": "stream",
     "text": [
      "The upper bounds of the range parameters are 8.621307 64491.08 44.41758 \n",
      "The initial values of range parameters are 0.1724261 1289.822 0.8883516 \n",
      "Start of the optimization  1  : \n",
      "The number of iterations is  15 \n",
      " The value of the  marginal posterior  function is  125.4472 \n",
      " Optimized range parameters are 0.2238966 1588.852 2.063857 \n",
      " Optimized nugget parameter is 0 \n",
      " Convergence:  TRUE \n",
      "The initial values of range parameters are 0.07730886 578.3035 0.3983007 \n",
      "Start of the optimization  2  : \n",
      "The number of iterations is  22 \n",
      " The value of the  marginal posterior  function is  125.4472 \n",
      " Optimized range parameters are 0.2238966 1588.852 2.063857 \n",
      " Optimized nugget parameter is 0 \n",
      " Convergence:  TRUE \n",
      "The upper bounds of the range parameters are 8.621307 64491.08 44.41758 \n",
      "The initial values of range parameters are 0.1724261 1289.822 0.8883516 \n",
      "Start of the optimization  1  : \n",
      "The number of iterations is  15 \n",
      " The value of the  marginal posterior  function is  125.4472 \n",
      " Optimized range parameters are 0.2238966 1588.852 2.063857 \n",
      " Optimized nugget parameter is 0 \n",
      " Convergence:  TRUE \n",
      "The initial values of range parameters are 0.07730886 578.3035 0.3983007 \n",
      "Start of the optimization  2  : \n",
      "The number of iterations is  22 \n",
      " The value of the  marginal posterior  function is  125.4472 \n",
      " Optimized range parameters are 0.2238966 1588.852 2.063857 \n",
      " Optimized nugget parameter is 0 \n",
      " Convergence:  TRUE \n",
      "The upper bounds of the range parameters are 8.621307 64491.08 44.41758 \n",
      "The initial values of range parameters are 0.1724261 1289.822 0.8883516 \n",
      "Start of the optimization  1  : \n",
      "The number of iterations is  15 \n",
      " The value of the  marginal posterior  function is  125.4472 \n",
      " Optimized range parameters are 0.2238966 1588.852 2.063857 \n",
      " Optimized nugget parameter is 0 \n",
      " Convergence:  TRUE \n",
      "The initial values of range parameters are 0.07730886 578.3035 0.3983007 \n",
      "Start of the optimization  2  : \n",
      "The number of iterations is  22 \n",
      " The value of the  marginal posterior  function is  125.4472 \n",
      " Optimized range parameters are 0.2238966 1588.852 2.063857 \n",
      " Optimized nugget parameter is 0 \n",
      " Convergence:  TRUE \n",
      "The upper bounds of the range parameters are 8.621307 64491.08 44.41758 \n",
      "The initial values of range parameters are 0.1724261 1289.822 0.8883516 \n",
      "Start of the optimization  1  : \n",
      "The number of iterations is  32 \n",
      " The value of the  marginal posterior  function is  121.5596 \n",
      " Optimized range parameters are 0.2869848 1470.122 3.646705 \n",
      " Optimized nugget parameter is 0 \n",
      " Convergence:  FALSE \n",
      "The initial values of range parameters are 0.07730886 578.3035 0.3983007 \n",
      "Start of the optimization  2  : \n",
      "The number of iterations is  25 \n",
      " The value of the  marginal posterior  function is  121.5596 \n",
      " Optimized range parameters are 0.2869845 1470.118 3.646705 \n",
      " Optimized nugget parameter is 0 \n",
      " Convergence:  TRUE \n",
      "The upper bounds of the range parameters are 8.621307 64491.08 44.41758 \n",
      "The initial values of range parameters are 0.1724261 1289.822 0.8883516 \n",
      "Start of the optimization  1  : \n",
      "The number of iterations is  32 \n",
      " The value of the  marginal posterior  function is  121.5596 \n",
      " Optimized range parameters are 0.2869848 1470.122 3.646705 \n",
      " Optimized nugget parameter is 0 \n",
      " Convergence:  FALSE \n",
      "The initial values of range parameters are 0.07730886 578.3035 0.3983007 \n",
      "Start of the optimization  2  : \n",
      "The number of iterations is  25 \n",
      " The value of the  marginal posterior  function is  121.5596 \n",
      " Optimized range parameters are 0.2869845 1470.118 3.646705 \n",
      " Optimized nugget parameter is 0 \n",
      " Convergence:  TRUE \n",
      "The upper bounds of the range parameters are 8.621307 64491.08 44.41758 \n",
      "The initial values of range parameters are 0.1724261 1289.822 0.8883516 \n",
      "Start of the optimization  1  : \n",
      "The number of iterations is  32 \n",
      " The value of the  marginal posterior  function is  121.5596 \n",
      " Optimized range parameters are 0.2869848 1470.122 3.646705 \n",
      " Optimized nugget parameter is 0 \n",
      " Convergence:  FALSE \n",
      "The initial values of range parameters are 0.07730886 578.3035 0.3983007 \n",
      "Start of the optimization  2  : \n",
      "The number of iterations is  25 \n",
      " The value of the  marginal posterior  function is  121.5596 \n",
      " Optimized range parameters are 0.2869845 1470.118 3.646705 \n",
      " Optimized nugget parameter is 0 \n",
      " Convergence:  TRUE \n",
      "The upper bounds of the range parameters are 8.621307 64491.08 44.41758 \n",
      "The initial values of range parameters are 0.1724261 1289.822 0.8883516 \n",
      "Start of the optimization  1  : \n",
      "The number of iterations is  18 \n",
      " The value of the  marginal posterior  function is  182.0072 \n",
      " Optimized range parameters are 0.5856289 1587.929 0.6329088 \n",
      " Optimized nugget parameter is 0 \n",
      " Convergence:  TRUE \n",
      "The initial values of range parameters are 0.07730886 578.3035 0.3983007 \n",
      "Start of the optimization  2  : \n",
      "The number of iterations is  36 \n",
      " The value of the  marginal posterior  function is  182.0072 \n",
      " Optimized range parameters are 0.5856288 1587.93 0.6329088 \n",
      " Optimized nugget parameter is 0 \n",
      " Convergence:  TRUE \n",
      "The upper bounds of the range parameters are 8.621307 64491.08 44.41758 \n",
      "The initial values of range parameters are 0.1724261 1289.822 0.8883516 \n",
      "Start of the optimization  1  : \n",
      "The number of iterations is  18 \n",
      " The value of the  marginal posterior  function is  182.0072 \n",
      " Optimized range parameters are 0.5856289 1587.929 0.6329088 \n",
      " Optimized nugget parameter is 0 \n",
      " Convergence:  TRUE \n",
      "The initial values of range parameters are 0.07730886 578.3035 0.3983007 \n",
      "Start of the optimization  2  : \n",
      "The number of iterations is  36 \n",
      " The value of the  marginal posterior  function is  182.0072 \n",
      " Optimized range parameters are 0.5856288 1587.93 0.6329088 \n",
      " Optimized nugget parameter is 0 \n",
      " Convergence:  TRUE \n",
      "The upper bounds of the range parameters are 8.621307 64491.08 44.41758 \n",
      "The initial values of range parameters are 0.1724261 1289.822 0.8883516 \n",
      "Start of the optimization  1  : \n",
      "The number of iterations is  18 \n",
      " The value of the  marginal posterior  function is  182.0072 \n",
      " Optimized range parameters are 0.5856289 1587.929 0.6329088 \n",
      " Optimized nugget parameter is 0 \n",
      " Convergence:  TRUE \n",
      "The initial values of range parameters are 0.07730886 578.3035 0.3983007 \n",
      "Start of the optimization  2  : \n",
      "The number of iterations is  36 \n",
      " The value of the  marginal posterior  function is  182.0072 \n",
      " Optimized range parameters are 0.5856288 1587.93 0.6329088 \n",
      " Optimized nugget parameter is 0 \n",
      " Convergence:  TRUE \n",
      "The upper bounds of the range parameters are 8.621307 64491.08 44.41758 \n",
      "The initial values of range parameters are 0.1724261 1289.822 0.8883516 \n",
      "Start of the optimization  1  : \n",
      "The number of iterations is  34 \n",
      " The value of the  marginal posterior  function is  -197.4144 \n",
      " Optimized range parameters are 0.666978 465.8232 2.615372 \n",
      " Optimized nugget parameter is 0 \n",
      " Convergence:  FALSE \n",
      "The initial values of range parameters are 0.07730886 578.3035 0.3983007 \n",
      "Start of the optimization  2  : \n",
      "The number of iterations is  29 \n",
      " The value of the  marginal posterior  function is  -197.4144 \n",
      " Optimized range parameters are 0.666978 465.8232 2.615372 \n",
      " Optimized nugget parameter is 0 \n",
      " Convergence:  TRUE \n",
      "The upper bounds of the range parameters are 8.621307 64491.08 44.41758 \n",
      "The initial values of range parameters are 0.1724261 1289.822 0.8883516 \n",
      "Start of the optimization  1  : \n",
      "The number of iterations is  34 \n",
      " The value of the  marginal posterior  function is  -197.4144 \n",
      " Optimized range parameters are 0.666978 465.8232 2.615372 \n",
      " Optimized nugget parameter is 0 \n",
      " Convergence:  FALSE \n",
      "The initial values of range parameters are 0.07730886 578.3035 0.3983007 \n",
      "Start of the optimization  2  : \n",
      "The number of iterations is  29 \n",
      " The value of the  marginal posterior  function is  -197.4144 \n",
      " Optimized range parameters are 0.666978 465.8232 2.615372 \n",
      " Optimized nugget parameter is 0 \n",
      " Convergence:  TRUE \n",
      "The upper bounds of the range parameters are 8.621307 64491.08 44.41758 \n",
      "The initial values of range parameters are 0.1724261 1289.822 0.8883516 \n",
      "Start of the optimization  1  : \n",
      "The number of iterations is  34 \n",
      " The value of the  marginal posterior  function is  -197.4144 \n",
      " Optimized range parameters are 0.666978 465.8232 2.615372 \n",
      " Optimized nugget parameter is 0 \n",
      " Convergence:  FALSE \n",
      "The initial values of range parameters are 0.07730886 578.3035 0.3983007 \n",
      "Start of the optimization  2  : \n",
      "The number of iterations is  29 \n",
      " The value of the  marginal posterior  function is  -197.4144 \n",
      " Optimized range parameters are 0.666978 465.8232 2.615372 \n",
      " Optimized nugget parameter is 0 \n",
      " Convergence:  TRUE \n",
      "The upper bounds of the range parameters are 8.621307 64491.08 44.41758 \n",
      "The initial values of range parameters are 0.1724261 1289.822 0.8883516 \n",
      "Start of the optimization  1  : \n",
      "The number of iterations is  19 \n",
      " The value of the  marginal posterior  function is  -118.3271 \n",
      " Optimized range parameters are 0.228105 1085.243 0.2945698 \n",
      " Optimized nugget parameter is 0 \n",
      " Convergence:  TRUE \n",
      "The initial values of range parameters are 0.07730886 578.3035 0.3983007 \n",
      "Start of the optimization  2  : \n",
      "The number of iterations is  13 \n",
      " The value of the  marginal posterior  function is  -118.3271 \n",
      " Optimized range parameters are 0.228105 1085.243 0.2945698 \n",
      " Optimized nugget parameter is 0 \n",
      " Convergence:  TRUE \n",
      "The upper bounds of the range parameters are 8.621307 64491.08 44.41758 \n",
      "The initial values of range parameters are 0.1724261 1289.822 0.8883516 \n",
      "Start of the optimization  1  : \n",
      "The number of iterations is  19 \n",
      " The value of the  marginal posterior  function is  -118.3271 \n",
      " Optimized range parameters are 0.228105 1085.243 0.2945698 \n",
      " Optimized nugget parameter is 0 \n",
      " Convergence:  TRUE \n",
      "The initial values of range parameters are 0.07730886 578.3035 0.3983007 \n",
      "Start of the optimization  2  : \n",
      "The number of iterations is  13 \n",
      " The value of the  marginal posterior  function is  -118.3271 \n",
      " Optimized range parameters are 0.228105 1085.243 0.2945698 \n",
      " Optimized nugget parameter is 0 \n",
      " Convergence:  TRUE \n",
      "The upper bounds of the range parameters are 8.621307 64491.08 44.41758 \n",
      "The initial values of range parameters are 0.1724261 1289.822 0.8883516 \n",
      "Start of the optimization  1  : \n",
      "The number of iterations is  19 \n",
      " The value of the  marginal posterior  function is  -118.3271 \n",
      " Optimized range parameters are 0.228105 1085.243 0.2945698 \n",
      " Optimized nugget parameter is 0 \n",
      " Convergence:  TRUE \n",
      "The initial values of range parameters are 0.07730886 578.3035 0.3983007 \n",
      "Start of the optimization  2  : \n",
      "The number of iterations is  13 \n",
      " The value of the  marginal posterior  function is  -118.3271 \n",
      " Optimized range parameters are 0.228105 1085.243 0.2945698 \n",
      " Optimized nugget parameter is 0 \n",
      " Convergence:  TRUE \n"
     ]
    }
   ],
   "source": [
    "mcs_moments = {}\n",
    "for i in scalars:\n",
    "    for j in mcs_analysis:\n",
    "        path = 'files/input/input_' + j + '_simple.csv'\n",
    "        filepath = pkg_resources.resource_filename('frontiers_yildizetal', path)\n",
    "        input = pd.read_csv(filepath).to_numpy()\n",
    "        \n",
    "        predicted = simple.predict_scalar(i, input)[0]\n",
    "        for k, f in enumerate(funcs):\n",
    "            naming = j + '_' + i + '_' + f_names[k]\n",
    "            mcs_moments[naming] = round(f(predicted),3)"
   ]
  },
  {
   "cell_type": "code",
   "execution_count": 57,
   "metadata": {},
   "outputs": [
    {
     "data": {
      "text/plain": [
       "{'mcs1_ia_mean': 2.346,\n",
       " 'mcs1_ia_var': 0.011,\n",
       " 'mcs1_ia_skew': -0.064,\n",
       " 'mcs2_ia_mean': 2.342,\n",
       " 'mcs2_ia_var': 0.058,\n",
       " 'mcs2_ia_skew': 0.074,\n",
       " 'mcs3_ia_mean': 2.364,\n",
       " 'mcs3_ia_var': 0.114,\n",
       " 'mcs3_ia_skew': 0.456,\n",
       " 'mcs1_da_mean': 1.141,\n",
       " 'mcs1_da_var': 0.004,\n",
       " 'mcs1_da_skew': -0.036,\n",
       " 'mcs2_da_mean': 1.141,\n",
       " 'mcs2_da_var': 0.021,\n",
       " 'mcs2_da_skew': -0.134,\n",
       " 'mcs3_da_mean': 1.177,\n",
       " 'mcs3_da_var': 0.04,\n",
       " 'mcs3_da_skew': 0.261,\n",
       " 'mcs1_dv_mean': 1.367,\n",
       " 'mcs1_dv_var': 0.02,\n",
       " 'mcs1_dv_skew': 0.06,\n",
       " 'mcs2_dv_mean': 1.369,\n",
       " 'mcs2_dv_var': 0.098,\n",
       " 'mcs2_dv_skew': 0.025,\n",
       " 'mcs3_dv_mean': 1.368,\n",
       " 'mcs3_dv_var': 0.148,\n",
       " 'mcs3_dv_skew': 0.006,\n",
       " 'mcs1_vmax_mean': 50.764,\n",
       " 'mcs1_vmax_var': 2.333,\n",
       " 'mcs1_vmax_skew': -0.256,\n",
       " 'mcs2_vmax_mean': 50.012,\n",
       " 'mcs2_vmax_var': 16.198,\n",
       " 'mcs2_vmax_skew': -0.529,\n",
       " 'mcs3_vmax_mean': 48.768,\n",
       " 'mcs3_vmax_var': 50.742,\n",
       " 'mcs3_vmax_skew': -0.705,\n",
       " 'mcs1_hmax_mean': 11.189,\n",
       " 'mcs1_hmax_var': 0.491,\n",
       " 'mcs1_hmax_skew': -0.723,\n",
       " 'mcs2_hmax_mean': 11.046,\n",
       " 'mcs2_hmax_var': 2.431,\n",
       " 'mcs2_hmax_skew': -0.3,\n",
       " 'mcs3_hmax_mean': 11.021,\n",
       " 'mcs3_hmax_var': 3.752,\n",
       " 'mcs3_hmax_skew': -0.187}"
      ]
     },
     "execution_count": 57,
     "metadata": {},
     "output_type": "execute_result"
    }
   ],
   "source": [
    "mcs_moments"
   ]
  },
  {
   "cell_type": "code",
   "execution_count": 53,
   "metadata": {},
   "outputs": [],
   "source": [
    "pem_moments = {}\n",
    "for i, mcs in enumerate(pem_analysis):\n",
    "    data = pem_scalar.iloc[8*i:8*(i+1),:]\n",
    "    for scalar in scalars:\n",
    "        for j, f in enumerate(funcs):\n",
    "            naming = mcs + '_' + scalar + '_' + f_names[j]\n",
    "            pem_moments[naming] = round(f(data[scalar]),3)\n",
    "        "
   ]
  },
  {
   "cell_type": "code",
   "execution_count": 54,
   "metadata": {},
   "outputs": [
    {
     "data": {
      "text/plain": [
       "{'pem1_ia_mean': 2.344,\n",
       " 'pem1_ia_var': 0.011,\n",
       " 'pem1_ia_skew': 0.002,\n",
       " 'pem1_da_mean': 1.134,\n",
       " 'pem1_da_var': 0.004,\n",
       " 'pem1_da_skew': -0.033,\n",
       " 'pem1_dv_mean': 1.371,\n",
       " 'pem1_dv_var': 0.02,\n",
       " 'pem1_dv_skew': 0.0,\n",
       " 'pem1_vmax_mean': 50.529,\n",
       " 'pem1_vmax_var': 2.441,\n",
       " 'pem1_vmax_skew': 0.063,\n",
       " 'pem1_hmax_mean': 11.095,\n",
       " 'pem1_hmax_var': 0.649,\n",
       " 'pem1_hmax_skew': 0.03,\n",
       " 'pem2_ia_mean': 2.335,\n",
       " 'pem2_ia_var': 0.069,\n",
       " 'pem2_ia_skew': 0.199,\n",
       " 'pem2_da_mean': 1.133,\n",
       " 'pem2_da_var': 0.027,\n",
       " 'pem2_da_skew': 0.11,\n",
       " 'pem2_dv_mean': 1.37,\n",
       " 'pem2_dv_var': 0.126,\n",
       " 'pem2_dv_skew': 0.0,\n",
       " 'pem2_vmax_mean': 50.065,\n",
       " 'pem2_vmax_var': 15.048,\n",
       " 'pem2_vmax_skew': 0.067,\n",
       " 'pem2_hmax_mean': 11.049,\n",
       " 'pem2_hmax_var': 3.026,\n",
       " 'pem2_hmax_skew': 0.004,\n",
       " 'pem3_ia_mean': 2.325,\n",
       " 'pem3_ia_var': 0.296,\n",
       " 'pem3_ia_skew': 0.445,\n",
       " 'pem3_da_mean': 1.15,\n",
       " 'pem3_da_var': 0.112,\n",
       " 'pem3_da_skew': 0.179,\n",
       " 'pem3_dv_mean': 1.368,\n",
       " 'pem3_dv_var': 0.504,\n",
       " 'pem3_dv_skew': 0.0,\n",
       " 'pem3_vmax_mean': 47.36,\n",
       " 'pem3_vmax_var': 66.905,\n",
       " 'pem3_vmax_skew': 0.049,\n",
       " 'pem3_hmax_mean': 10.656,\n",
       " 'pem3_hmax_var': 12.316,\n",
       " 'pem3_hmax_skew': 0.002}"
      ]
     },
     "execution_count": 54,
     "metadata": {},
     "output_type": "execute_result"
    }
   ],
   "source": [
    "pem_moments"
   ]
  },
  {
   "cell_type": "code",
   "execution_count": 58,
   "metadata": {},
   "outputs": [],
   "source": [
    "import matplotlib.pyplot as plt"
   ]
  },
  {
   "cell_type": "code",
   "execution_count": 63,
   "metadata": {},
   "outputs": [],
   "source": [
    "x = [1,2,3,4,5,6]\n",
    "y = mcs_moments['mcs1_ia_mean'], pem_moments['pem1_ia_mean'], mcs_moments['mcs2_ia_mean'], pem_moments['pem2_ia_mean'], mcs_moments['mcs3_ia_mean'], pem_moments['pem3_ia_mean']"
   ]
  },
  {
   "cell_type": "code",
   "execution_count": 73,
   "metadata": {},
   "outputs": [
    {
     "data": {
      "text/plain": [
       "[2.346,\n",
       " 2.342,\n",
       " 2.364,\n",
       " 1.141,\n",
       " 1.141,\n",
       " 1.177,\n",
       " 1.367,\n",
       " 1.369,\n",
       " 1.368,\n",
       " 50.764,\n",
       " 50.012,\n",
       " 48.768,\n",
       " 11.189,\n",
       " 11.046,\n",
       " 11.021]"
      ]
     },
     "execution_count": 73,
     "metadata": {},
     "output_type": "execute_result"
    }
   ],
   "source": [
    "[value for key, value in mcs_moments.items() if 'mean' in key.lower()]"
   ]
  },
  {
   "cell_type": "code",
   "execution_count": 69,
   "metadata": {},
   "outputs": [
    {
     "data": {
      "text/plain": [
       "(2.3, 2.4)"
      ]
     },
     "execution_count": 69,
     "metadata": {},
     "output_type": "execute_result"
    },
    {
     "data": {
      "image/png": "[encoded data removed]",
      "text/plain": [
       "<Figure size 432x288 with 1 Axes>"
      ]
     },
     "metadata": {
      "needs_background": "light"
     },
     "output_type": "display_data"
    }
   ],
   "source": [
    "plt.scatter(y,x,color=['r','k','r','k','r','k'])\n",
    "plt.xlim(2.3,2.4)"
   ]
  },
  {
   "cell_type": "code",
   "execution_count": null,
   "metadata": {},
   "outputs": [],
   "source": []
  }
 ],
 "metadata": {
  "kernelspec": {
   "display_name": "Python 3.10.4 ('frontiers')",
   "language": "python",
   "name": "python3"
  },
  "language_info": {
   "codemirror_mode": {
    "name": "ipython",
    "version": 3
   },
   "file_extension": ".py",
   "mimetype": "text/x-python",
   "name": "python",
   "nbconvert_exporter": "python",
   "pygments_lexer": "ipython3",
   "version": "3.10.4"
  },
  "orig_nbformat": 4,
  "vscode": {
   "interpreter": {
    "hash": "fdd8cca7f90297f9da3824898f761c98d8de3049edb43f17b7165131b25ea8ad"
   }
  }
 },
 "nbformat": 4,
 "nbformat_minor": 2
}
